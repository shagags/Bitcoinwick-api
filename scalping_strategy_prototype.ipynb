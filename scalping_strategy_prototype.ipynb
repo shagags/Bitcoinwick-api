{
  "nbformat": 4,
  "nbformat_minor": 0,
  "metadata": {
    "colab": {
      "provenance": [],
      "authorship_tag": "ABX9TyMT7YnKPDbCuAju2TQk9C0y",
      "include_colab_link": true
    },
    "kernelspec": {
      "name": "python3",
      "display_name": "Python 3"
    },
    "language_info": {
      "name": "python"
    }
  },
  "cells": [
    {
      "cell_type": "markdown",
      "metadata": {
        "id": "view-in-github",
        "colab_type": "text"
      },
      "source": [
        "<a href=\"https://colab.research.google.com/github/shagags/Bitcoinwick-api/blob/main/scalping_strategy_prototype.ipynb\" target=\"_parent\"><img src=\"https://colab.research.google.com/assets/colab-badge.svg\" alt=\"Open In Colab\"/></a>"
      ]
    },
    {
      "cell_type": "code",
      "execution_count": null,
      "metadata": {
        "id": "8Z63Tx1trH7O"
      },
      "outputs": [],
      "source": [
        "!pip install pandas numpy fastapi uvicorn requests"
      ]
    },
    {
      "cell_type": "code",
      "source": [
        "import pandas as pd\n",
        "import numpy as np\n",
        "\n",
        "def generate_signal(df):\n",
        "    \"\"\"\n",
        "    Example function:\n",
        "    - df: DataFrame with columns ['open','high','low','close'] at 1-minute frequency.\n",
        "    - Returns 'BUY', 'SELL', or 'HOLD'.\n",
        "    \"\"\"\n",
        "    # Calculate 5 and 13 EMA for trend filter\n",
        "    df['ema5'] = df['close'].ewm(span=5, adjust=False).mean()\n",
        "    df['ema13'] = df['close'].ewm(span=13, adjust=False).mean()\n",
        "\n",
        "    # Check if 5 EMA > 13 EMA (uptrend) and last 3 bars inside a tight range\n",
        "    if df['ema5'].iloc[-1] > df['ema13'].iloc[-1]:\n",
        "        last3 = df['close'].iloc[-3:]\n",
        "        if max(last3) - min(last3) < np.mean(df['close'].diff().abs().iloc[-50:]) * 0.5:\n",
        "            if df['close'].iloc[-1] > max(last3[:-1]):\n",
        "                return \"BUY\"\n",
        "    # Reverse logic for SELL\n",
        "    if df['ema5'].iloc[-1] < df['ema13'].iloc[-1]:\n",
        "        last3 = df['close'].iloc[-3:]\n",
        "        if max(last3) - min(last3) < np.mean(df['close'].diff().abs().iloc[-50:]) * 0.5:\n",
        "            if df['close'].iloc[-1] < min(last3[:-1]):\n",
        "                return \"SELL\"\n",
        "    return \"HOLD\"\n",
        "\n",
        "# Test on dummy data\n",
        "test_data = pd.DataFrame({\n",
        "    'open': [1,1.02,1.03,1.05,1.07],\n",
        "    'high':[1.02,1.03,1.05,1.07,1.08],\n",
        "    'low':[1,1.02,1.01,1.04,1.05],\n",
        "    'close':[1.02,1.03,1.05,1.07,1.06]\n",
        "})\n",
        "print(generate_signal(test_data))  # Should output BUY, SELL, or HOLD"
      ],
      "metadata": {
        "collapsed": true,
        "id": "565Gcl5TrUVN"
      },
      "execution_count": null,
      "outputs": []
    }
  ]
}